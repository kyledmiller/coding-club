{
  "nbformat": 4,
  "nbformat_minor": 0,
  "metadata": {
    "colab": {
      "name": "Project13-Cryptography-Caesar-Cipher.ipynb",
      "provenance": []
    },
    "kernelspec": {
      "name": "python3",
      "display_name": "Python 3"
    },
    "language_info": {
      "name": "python"
    }
  },
  "cells": [
    {
      "cell_type": "markdown",
      "metadata": {
        "id": "XrlOuJyyV0S5"
      },
      "source": [
        "# Caesar Cipher\n",
        "In this lesson, we will write a function to encrypt text using the Caesar Cipher to create secret messages and a function to decrypt those secret messages."
      ]
    },
    {
      "cell_type": "code",
      "metadata": {
        "id": "IkcL4LswWxT4"
      },
      "source": [
        "# Useful functions\n",
        "ord()\n",
        "chr()"
      ],
      "execution_count": null,
      "outputs": []
    },
    {
      "cell_type": "code",
      "metadata": {
        "id": "uV3E__tWUEuZ"
      },
      "source": [
        "def encrypt(text, shift):\n",
        "  "
      ],
      "execution_count": null,
      "outputs": []
    },
    {
      "cell_type": "code",
      "metadata": {
        "colab": {
          "base_uri": "https://localhost:8080/"
        },
        "id": "2dE_7qhOVqxH",
        "outputId": "8db865f5-6ab1-4f73-eb72-17fd63d07bb0"
      },
      "source": [
        ""
      ],
      "execution_count": null,
      "outputs": [
        {
          "output_type": "execute_result",
          "data": {
            "text/plain": [
              "50"
            ]
          },
          "metadata": {},
          "execution_count": 3
        }
      ]
    },
    {
      "cell_type": "code",
      "metadata": {
        "id": "DAGJuUmOVr8a"
      },
      "source": [
        ""
      ],
      "execution_count": null,
      "outputs": []
    }
  ]
}