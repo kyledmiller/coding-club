{
 "cells": [
  {
   "cell_type": "markdown",
   "metadata": {},
   "source": [
    "## Introduction\n",
    "For this lesson, you are challenged to create your very own interactive videogame modeled after the board game [Battleship](https://en.wikipedia.org/wiki/Battleship_(game)). Click on the link and skim the Wikipedia article to familiarize yourself with the rules of the game."
   ]
  },
  {
   "cell_type": "markdown",
   "metadata": {},
   "source": [
    "## Creating functions\n",
    "Functions are essential to any Python program. They allow us to simplify and shorten our program by encapsulating useful pieces of code so that we can reuse it throughout our program without rewriting the same code. You can think of it as a variable but instead of simply saving an object for later use, we are saving a process for later use.\n",
    "\n",
    "A function is also different from plain code because it **only runs when it is called**. Run the cells below to see."
   ]
  },
  {
   "cell_type": "code",
   "execution_count": null,
   "metadata": {},
   "outputs": [],
   "source": [
    "# Plain code\n",
    "print('hi')"
   ]
  },
  {
   "cell_type": "code",
   "execution_count": null,
   "metadata": {},
   "outputs": [],
   "source": [
    "# Function definition\n",
    "def say_hi():\n",
    "    print('hi')"
   ]
  },
  {
   "cell_type": "code",
   "execution_count": null,
   "metadata": {},
   "outputs": [],
   "source": [
    "# Calling a function\n",
    "say_hi()"
   ]
  },
  {
   "cell_type": "markdown",
   "metadata": {},
   "source": [
    "### Anatomy of a function\n",
    "Every function has 5 basic components:\n",
    "1. **Name**: a short, descriptive name for the function which should be lowercase with words separated by underscores, e.g., `clear_board` for a function that removes all pieces from a game board\n",
    "\n",
    "\n",
    "2. **Arguments**: the input of the function, or the information that the function needs to carry out its process. A function can have any number of arguments, even zero if no input information is needed.\n",
    "\n",
    "\n",
    "3. **Comment**: a description of the function, its arguments, and its return values. This is technically not required for a function to work but it crucial for others to understand your code and helpful for you to outline your own code.\n",
    "\n",
    "\n",
    "4. **Body**: the code inside a function that carries out the process.\n",
    "\n",
    "\n",
    "5. **Return value**: the output of the function, or the finished product created by the function's process. Not every function needs to have a return value, e.g., `set_height` might change a value in an object but doesn't need to produce value whereas `get_height` which retrieves an object's height should return the height value. "
   ]
  },
  {
   "cell_type": "markdown",
   "metadata": {},
   "source": [
    "### How to write/define a function\n",
    "In Python, we define a function using the `def` keyword, we enclose the arguments within parentheses, and return values at the end of the body code using the `return` keyword. The comment goes inside triple quotes beneath the function name and is formatted similar to what is shown below. Altogether, the format looks like this:\n",
    "\n",
    "\n",
    "`def function_name(arg1, arg2):\n",
    "    \"\"\"Description of the the function\n",
    "    Arguments:\n",
    "        arg1 (arg1 data type) -- description of arg1\n",
    "        arg2 (arg2 data type) -- description of arg2\n",
    "    Returns: \n",
    "        return_val1(return_val1 data type) -- description of return_val1\n",
    "        return_val2(return_val2 data type) -- description of return_val2\n",
    "    \"\"\"\n",
    "    body code\n",
    "    more body code\n",
    "    return return_value1, return_value2`"
   ]
  },
  {
   "cell_type": "markdown",
   "metadata": {},
   "source": [
    "### How to use the output of a function (return value)\n",
    "A function's output can be used or saved in a variable by simply treating the function call as the return value."
   ]
  },
  {
   "cell_type": "code",
   "execution_count": null,
   "metadata": {},
   "outputs": [],
   "source": [
    "def get_primes_under_10():\n",
    "    return 1,2,3,5,7"
   ]
  },
  {
   "cell_type": "code",
   "execution_count": null,
   "metadata": {},
   "outputs": [],
   "source": [
    "print(get_primes_under_10())"
   ]
  },
  {
   "cell_type": "code",
   "execution_count": null,
   "metadata": {},
   "outputs": [],
   "source": [
    "numbers = get_primes_under_10()\n",
    "print(numbers)"
   ]
  },
  {
   "cell_type": "markdown",
   "metadata": {},
   "source": [
    "What type is the variable \"numbers\"? Do you remember the syntax? Try \"print(type(numbers))\""
   ]
  },
  {
   "cell_type": "code",
   "execution_count": null,
   "metadata": {},
   "outputs": [],
   "source": [
    "#What type is the variable \"numbers\"?\n"
   ]
  },
  {
   "cell_type": "code",
   "execution_count": null,
   "metadata": {},
   "outputs": [],
   "source": [
    "a, b, c, d, e = get_primes_under_10()\n",
    "print(a)\n",
    "print(d)"
   ]
  },
  {
   "cell_type": "markdown",
   "metadata": {},
   "source": [
    "What types are the variables a, b, c, d, e?"
   ]
  },
  {
   "cell_type": "code",
   "execution_count": null,
   "metadata": {},
   "outputs": [],
   "source": [
    "#What types are the variables a, b, c, d, e?\n"
   ]
  },
  {
   "cell_type": "markdown",
   "metadata": {},
   "source": [
    "What did we learn? A function with multiple return values returns a tuple that contains each of the outputs! \n",
    "\n",
    "You can index a tuple like you would a string or a list."
   ]
  },
  {
   "cell_type": "code",
   "execution_count": null,
   "metadata": {},
   "outputs": [],
   "source": [
    "print(numbers[0])\n",
    "print(numbers[4])"
   ]
  },
  {
   "cell_type": "markdown",
   "metadata": {},
   "source": [
    "#### Practice\n",
    "Below is an example function, try reading it, figuring out what it does and then: \n",
    "1. Rename the function\n",
    "2. Rename the function's arguments\n",
    "3. Rename all variables used\n",
    "\n",
    "\n",
    "to be more descriptive, so that you have an idea why that function/argument/variable exists just by reading its name."
   ]
  },
  {
   "cell_type": "code",
   "execution_count": null,
   "metadata": {},
   "outputs": [],
   "source": [
    "def my_function(arg1):\n",
    "    \"\"\"\n",
    "    This function is a mystery. REPLACE THIS WITH A DESCRIPTION.\n",
    "    Arguments:\n",
    "        arg1 (list of int) -- mystery (REPLACE)\n",
    "    Returns:\n",
    "        a (list of int) -- mystery (REPLACE)\n",
    "        b (list of int) -- mystery (REPLACE)\n",
    "    \"\"\"\n",
    "    a = []\n",
    "    b = []\n",
    "    \n",
    "    for item in arg1:\n",
    "        if item % 2 == 0:\n",
    "            a.append(item)\n",
    "        else:\n",
    "            b.append(item)\n",
    "            \n",
    "    return a, b"
   ]
  },
  {
   "cell_type": "code",
   "execution_count": null,
   "metadata": {},
   "outputs": [],
   "source": [
    "### Play around with my_function here to help you figure out what it does\n",
    "\n"
   ]
  },
  {
   "cell_type": "markdown",
   "metadata": {},
   "source": [
    "### Function 1: Making the board\n",
    "Battleship requires a game board (typically 10x10) and we will represent this by a 2D array. Below, you will complete the function `make_empty_board` to create a NxN array full of zeros, representing empty spaces."
   ]
  },
  {
   "cell_type": "code",
   "execution_count": null,
   "metadata": {},
   "outputs": [],
   "source": [
    "import numpy as np\n",
    "\n",
    "def make_empty_board(N):\n",
    "    \"\"\"Creates an empty NxN Battleship board\n",
    "    Arguments:\n",
    "        N (int) -- dimension of the square 2D array representing the Battleship board\n",
    "    Returns:\n",
    "        board (2D numpy array of ints) -- empty NxN board\n",
    "    \"\"\"\n",
    "    # Insert code here\n",
    "    \n",
    "\n",
    "    return board "
   ]
  },
  {
   "cell_type": "code",
   "execution_count": null,
   "metadata": {},
   "outputs": [],
   "source": [
    "### Test your make_board function here\n",
    "my_board = make_empty_board(3)\n",
    "print(my_board)\n",
    "\n",
    "# add more tests as needed\n",
    "\n"
   ]
  },
  {
   "cell_type": "markdown",
   "metadata": {},
   "source": [
    "### Function 2: Placing Ships\n",
    "At the beginning of a Battleship game, each player places ships on their board. You will create a function to create an empty board (by calling the `make_empty_board` function) and place M 1x1 ships (represented by 1s) on it randomly."
   ]
  },
  {
   "cell_type": "code",
   "execution_count": null,
   "metadata": {},
   "outputs": [],
   "source": [
    "import numpy.random as random\n",
    "\n",
    "def make_board(N, num_ships):\n",
    "    \"\"\"\n",
    "    Creates an NxN Battleship board and randomly places the specified number of 1x1 ships \n",
    "    (represented by 1s) on it randomly.\n",
    "    Arguments:\n",
    "    (FILL ME IN)\n",
    "    Returns:\n",
    "    (FILL ME IN)\n",
    "    \"\"\"\n",
    "    # Insert code here\n",
    "    \n",
    "    # Hint: use random.randint(low, high) to generate a random integer from \"low\" up to but not\n",
    "    #       including \"high\" -> random.randint(4,9) gives you either 4, 5, 6, 7, or 8.\n",
    "    \n",
    "    # Hint: We wouldn't want to accidentally place a ship on top of another ship so make sure you \n",
    "    # put a piece of conditional code to check for that situation.\n",
    "     \n",
    "    return board"
   ]
  },
  {
   "cell_type": "code",
   "execution_count": null,
   "metadata": {},
   "outputs": [],
   "source": [
    "### Testing\n"
   ]
  },
  {
   "cell_type": "markdown",
   "metadata": {},
   "source": [
    "#### Note: Having multiple boards\n",
    "Since Battleship is a game of guessing, players can't be allowed to see the enemy's true board. This means we must have **2 separate boards per player**: one to store the opponent's actual ship locations (`true_board`), and one to store the player's knowledge of their opponent's board (`known_board`)."
   ]
  },
  {
   "cell_type": "markdown",
   "metadata": {},
   "source": [
    "### Function 3: Attack\n",
    "Tracking player's turns is fairly complicated so we will take care of that in the next lesson. For now, we will code another useful function that represents a single turn of one player. Each turn, a player attacks a single square on the opponents board, with the outcome either being a hit or a miss."
   ]
  },
  {
   "cell_type": "code",
   "execution_count": null,
   "metadata": {},
   "outputs": [],
   "source": [
    "def attack(true_board, known_board, x, y):\n",
    "    \"\"\"\n",
    "    Given the current combat situtation (encoded in true_board and known_board), strike the\n",
    "    space with coordinates (x, y)). We represent a hit with +1 and a miss with -1.\n",
    "    Arguments:\n",
    "        (FILL ME IN)\n",
    "    Returns:\n",
    "        new_known_board (2D array of ints) -- known_board that has been updated with the outcome\n",
    "                                              of the attack.\n",
    "    \"\"\"\n",
    "    # In all cases below, print a message describing the outcome\n",
    "    \n",
    "    # Check that (x, y) is even on the board (not off the edge)\n",
    "   \n",
    "    # Check the known_board to ensure that (x, y) has not already been attacked\n",
    "      \n",
    "    # Find out by looking at true_board if an attack at (x, y) will be a hit or a miss\n",
    "    \n",
    "    # Update known_board with the result of the attack\n",
    "        \n",
    "    return new_known_board"
   ]
  },
  {
   "cell_type": "code",
   "execution_count": null,
   "metadata": {},
   "outputs": [],
   "source": [
    "### Testing\n"
   ]
  },
  {
   "cell_type": "markdown",
   "metadata": {},
   "source": [
    "### Going Beyond\n",
    "These functions are nice but Battleship isn't that fun if all the ships are the same size (1x1)! Your bonus challenge is to write a new `make_board` function that creates an official size Battleship board and places the correct number of correctly-sized ships (refer to the Wikipedia page) **according to user input**. \n",
    "\n",
    "**Tips**\n",
    "1. Since this board is a 2D grid, you should ask the user for **3 pieces of information** when placing a ship for them: x-coordinate, y-coordinate, and orientation (vertical or horizontal).\n",
    "\n",
    "\n",
    "2. To simplify placement of variably-sized ships in varying orientations (vertical and horizontal), you should use the uppermost, leftmost segment of the ship as the reference point for where it is placed on the board. For example, if a user asks to place a 3-long ship horizontally at (x=1, y=2), the ship will be placed at coordinates (1,2), (2,2), (3,2). This consistency makes it easier to check if the ship being placed will collide with other ships or fall off the board.\n",
    "\n",
    "\n",
    "3. It is somewhat complicated to give the user a second chance if they place a ship in the wrong location so we will instead create an unforgiving program that simply throws away that ship if the user makes a mistake. >:)\n",
    "\n",
    "\n",
    "4. Knowing some advanced looping keywords will be useful. Read this [article](https://www.digitalocean.com/community/tutorials/how-to-use-break-continue-and-pass-statements-when-working-with-loops-in-python-3) if you are unfamiliar with `break`, `continue`, and `pass`."
   ]
  },
  {
   "cell_type": "code",
   "execution_count": null,
   "metadata": {},
   "outputs": [],
   "source": [
    "def make_true_board():\n",
    "    \"\"\"(FILL ME IN)\n",
    "    Returns:\n",
    "    (FILL ME IN)\n",
    "    \"\"\"\n",
    "    # Create an empty board\n",
    "    \n",
    "    # Create list of ships (specifying their size)\n",
    "    \n",
    "    # Loop through ships\n",
    "    \n",
    "        # Show user the current board (print it)\n",
    "    \n",
    "        # Ask user for ship placement information (3 pieces of info) and store this information\n",
    "    \n",
    "        # Check that the placed ship doesn't collide with other ships\n",
    "            # if it collides, tell the user and discard their ship (use a the keyword \"continue\")\n",
    "            \n",
    "        # Check that the placed ship doesn't fall off the board\n",
    "            # if it falls off the board, tell the user and discard their ship (use a the keyword \"continue\")\n",
    "\n",
    "        # Update the board\n",
    "    \n",
    "    return board"
   ]
  },
  {
   "cell_type": "code",
   "execution_count": null,
   "metadata": {},
   "outputs": [],
   "source": [
    "### Testing\n"
   ]
  }
 ],
 "metadata": {
  "kernelspec": {
   "display_name": "Python 3",
   "language": "python",
   "name": "python3"
  },
  "language_info": {
   "codemirror_mode": {
    "name": "ipython",
    "version": 3
   },
   "file_extension": ".py",
   "mimetype": "text/x-python",
   "name": "python",
   "nbconvert_exporter": "python",
   "pygments_lexer": "ipython3",
   "version": "3.7.4"
  }
 },
 "nbformat": 4,
 "nbformat_minor": 2
}
