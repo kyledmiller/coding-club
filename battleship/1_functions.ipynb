{
 "cells": [
  {
   "cell_type": "markdown",
   "metadata": {},
   "source": [
    "## Introduction\n",
    "For this lesson, you are challenged to create your very own interactive videogame modeled after the board game [Battleship](https://en.wikipedia.org/wiki/Battleship_(game)). Click on the link and skim the Wikipedia article to familiarize yourself with the rules of the game."
   ]
  },
  {
   "cell_type": "markdown",
   "metadata": {},
   "source": [
    "## Creating functions\n",
    "Functions are essential to any Python program. They allow us to simplify and shorten our program by encapsulating useful pieces of code so that we can reuse it throughout our program without rewriting the same code. You can think of it as a variable but instead of simply saving an object for later use, we are saving a process for later use.\n",
    "\n",
    "A function is also different from plain code because it **only runs when it is called**. Run the cells below to see."
   ]
  },
  {
   "cell_type": "code",
   "execution_count": null,
   "metadata": {},
   "outputs": [],
   "source": [
    "# Plain code\n",
    "print('hi')"
   ]
  },
  {
   "cell_type": "code",
   "execution_count": null,
   "metadata": {},
   "outputs": [],
   "source": [
    "# Function definition\n",
    "def say_hi():\n",
    "    print('hi')"
   ]
  },
  {
   "cell_type": "code",
   "execution_count": null,
   "metadata": {},
   "outputs": [],
   "source": [
    "# Calling a function\n",
    "say_hi()"
   ]
  },
  {
   "cell_type": "markdown",
   "metadata": {},
   "source": [
    "### Anatomy of a function\n",
    "Every function has 4 basic components:\n",
    "1. **Name**: a short, descriptive name for the function which should be lowercase with words separated by underscores, e.g., `clear_board` for a function that removes all pieces from a game board\n",
    "\n",
    "\n",
    "2. **Arguments**: the input of the function, or the information that the function needs to carry out its process. A function can have any number of arguments, even zero if no input information is needed.\n",
    "\n",
    "\n",
    "3. **Return value**: the output of the function, or the finished product created by the function's process. Not every function needs to have a return value, e.g., `set_height` might change a value in an object but doesn't need to produce value whereas `get_height` which retrieves an object's height should return the height value. \n",
    "\n",
    "\n",
    "4. **Body**: the code inside a function that carries out the process."
   ]
  },
  {
   "cell_type": "markdown",
   "metadata": {},
   "source": [
    "### How to write/define a function\n",
    "In Python, we define a function using the `def` keyword, we enclose the arguments within parentheses, and return values at the end of the body code using the `return` keyword. Altogether, the format looks like this:\n",
    "\n",
    "\n",
    "`def function_name(argument1, argument2):\n",
    "    body code\n",
    "    more body code\n",
    "    return return_value1, return_value2`\n",
    "    \n",
    "    \n",
    "Below is an example function, try reading it and  figure out what it does and then rename the function, arguments, and variable used to be more descriptive."
   ]
  },
  {
   "cell_type": "code",
   "execution_count": 1,
   "metadata": {},
   "outputs": [],
   "source": [
    "def my_function(arg1, arg2):\n",
    "    \"\"\"This function is a mystery. REPLACE THIS WITH A DESCRIPTION.\n",
    "    Arguments:\n",
    "        arg1 (list): mystery\n",
    "        arg2 (integer): mystery\n",
    "    \"\"\"\n",
    "    \n",
    "    for item in arg1:\n",
    "        \n",
    "    var = arg1 + arg2\n",
    "    return var/2"
   ]
  },
  {
   "cell_type": "code",
   "execution_count": null,
   "metadata": {},
   "outputs": [],
   "source": []
  }
 ],
 "metadata": {
  "kernelspec": {
   "display_name": "Python 3",
   "language": "python",
   "name": "python3"
  },
  "language_info": {
   "codemirror_mode": {
    "name": "ipython",
    "version": 3
   },
   "file_extension": ".py",
   "mimetype": "text/x-python",
   "name": "python",
   "nbconvert_exporter": "python",
   "pygments_lexer": "ipython3",
   "version": "3.7.3"
  }
 },
 "nbformat": 4,
 "nbformat_minor": 2
}
