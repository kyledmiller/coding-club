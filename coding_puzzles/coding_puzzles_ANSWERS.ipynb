{
 "cells": [
  {
   "cell_type": "markdown",
   "metadata": {},
   "source": [
    "Coding problems adapted from [Daily Coding Problem](https://www.dailycodingproblem.com/) with solutions crafted by Coding Club (Kyle D. Miller)."
   ]
  },
  {
   "cell_type": "markdown",
   "metadata": {},
   "source": [
    "## [Easy] Check for Sum\n",
    "Given a list of numbers and a number k, return whether any two numbers from the list add up to k.\n",
    "For example, given [10, 15, 3, 7] and k of 17, return true since 10 + 7 is 17."
   ]
  },
  {
   "cell_type": "code",
   "execution_count": null,
   "metadata": {},
   "outputs": [],
   "source": [
    "def has_sum(k,ls):\n",
    "  \"\"\"Determines if ls contains two numbers which add to k\n",
    "  \"\"\"\n",
    "  # We're looking for a and b (both in ls) such that a+b=k\n",
    "\n",
    "  targets = []  # for storing potential b values that match any a values we find\n",
    "  for a in ls:  # loop through the list\n",
    "    if a in targets: return True # If we find a matching b value, it's True\n",
    "    targets += [k-a] # Otherwise, calculate the corresponding b value (b=k-a),\n",
    "                     # and store it\n",
    "  return False # If we've gone thru the whole list and found no matching b\n",
    "               # values, it must be False"
   ]
  },
  {
   "cell_type": "markdown",
   "metadata": {},
   "source": [
    "## [Hard] Staircase\n",
    "### Part 1\n",
    "There's a staircase with N steps, and you can climb 1 or 2 steps at a time. Given N, write a function that returns the number of unique ways you can climb the staircase. The order of the steps matters.\n",
    "\n",
    "For example, if N is 4, then there are 5 unique ways:<br>\n",
    "1, 1, 1, 1<br>\n",
    "2, 1, 1<br>\n",
    "1, 2, 1<br>\n",
    "1, 1, 2<br>\n",
    "2, 2<br>\n",
    "\n",
    "### Part 2\n",
    "What if, instead of being able to climb 1 or 2 steps at a time, you could climb any number from a set of positive integers X? For example, if X = {1, 3, 5}, you could climb 1, 3, or 5 steps at a time. Generalize your function to take in X."
   ]
  },
  {
   "cell_type": "code",
   "execution_count": 12,
   "metadata": {},
   "outputs": [],
   "source": [
    "def staircase1(N, X):\n",
    "    cache = [0 for _ in range(N+1)]\n",
    "    # Trivial case - there is one way to climb a staircase of height 0\n",
    "    cache[0] = 1\n",
    "    # Nontrivial case\n",
    "    # For every possible step size, see if we can climb the remaining steps\n",
    "    # If so, add the number of ways to climb those steps to the total\n",
    "    for i in range(1, N+1):\n",
    "        cache[i] = sum(cache[i-x] for x in X if x <= i)\n",
    "    return cache[N]"
   ]
  },
  {
   "cell_type": "code",
   "execution_count": 25,
   "metadata": {},
   "outputs": [
    {
     "name": "stdout",
     "output_type": "stream",
     "text": [
      "N = 0 X = []\n",
      "# of ways to climb the staircase = 1 \n",
      "\n",
      "N = 1 X = []\n",
      "# of ways to climb the staircase = 0 \n",
      "\n",
      "N = 0 X = [1, 2, 3]\n",
      "# of ways to climb the staircase = 1 \n",
      "\n",
      "N = 1 X = [1, 2, 3]\n",
      "# of ways to climb the staircase = 1 \n",
      "\n",
      "N = 2 X = [1, 2, 3]\n",
      "# of ways to climb the staircase = 2 \n",
      "\n",
      "N = 3 X = [1, 2, 3]\n",
      "# of ways to climb the staircase = 4 \n",
      "\n",
      "N = 4 X = [1, 2, 3]\n",
      "# of ways to climb the staircase = 7 \n",
      "\n",
      "N = 5 X = [1, 2, 3]\n",
      "# of ways to climb the staircase = 13 \n",
      "\n"
     ]
    }
   ],
   "source": [
    "# Test the staircase function\n",
    "def test_staircase(func, N, X):\n",
    "    print(\"N =\", N, \"X =\", X)\n",
    "    answer = func(N, X)\n",
    "    print(\"# of ways to climb the staircase =\", answer, \"\\n\")\n",
    "    return answer\n",
    "\n",
    "func  = staircase1\n",
    "assert test_staircase(func, 0, []) == 1\n",
    "assert test_staircase(func, 1, []) == 0\n",
    "assert test_staircase(func, 0, [1,2,3]) == 1\n",
    "assert test_staircase(func, 1, [1,2,3]) == 1\n",
    "assert test_staircase(func, 2, [1,2,3]) == 2\n",
    "assert test_staircase(func, 3, [1,2,3]) == 4\n",
    "assert test_staircase(func, 4, [1,2,3]) == 7\n",
    "assert test_staircase(func, 5, [1,2,3]) == 13"
   ]
  },
  {
   "cell_type": "code",
   "execution_count": 26,
   "metadata": {},
   "outputs": [
    {
     "name": "stdout",
     "output_type": "stream",
     "text": [
      "0.36704028490930796\n"
     ]
    }
   ],
   "source": [
    "### Testing timing\n",
    "import timeit\n",
    "funcs = [staircase1]\n",
    "\n",
    "def test():\n",
    "    print(timeit.timeit('staircase1(20,{1,2,3,4,5})', number=10000, globals=globals()))\n",
    "\n",
    "test()"
   ]
  },
  {
   "cell_type": "code",
   "execution_count": null,
   "metadata": {},
   "outputs": [],
   "source": []
  }
 ],
 "metadata": {
  "kernelspec": {
   "display_name": "pmg",
   "language": "python",
   "name": "python3"
  },
  "language_info": {
   "codemirror_mode": {
    "name": "ipython",
    "version": 3
   },
   "file_extension": ".py",
   "mimetype": "text/x-python",
   "name": "python",
   "nbconvert_exporter": "python",
   "pygments_lexer": "ipython3",
   "version": "3.10.10"
  }
 },
 "nbformat": 4,
 "nbformat_minor": 2
}
